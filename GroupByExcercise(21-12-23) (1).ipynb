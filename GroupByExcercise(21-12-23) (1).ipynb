{
 "cells": [
  {
   "cell_type": "code",
   "execution_count": 210,
   "id": "8d85a043",
   "metadata": {},
   "outputs": [],
   "source": [
    "import pandas as pd"
   ]
  },
  {
   "cell_type": "code",
   "execution_count": 211,
   "id": "3121e4f3",
   "metadata": {},
   "outputs": [],
   "source": [
    "import seaborn as sns "
   ]
  },
  {
   "cell_type": "code",
   "execution_count": 212,
   "id": "4a919ca1",
   "metadata": {},
   "outputs": [],
   "source": [
    "import sklearn"
   ]
  },
  {
   "cell_type": "code",
   "execution_count": 213,
   "id": "ebbe944b",
   "metadata": {},
   "outputs": [
    {
     "data": {
      "text/html": [
       "<div>\n",
       "<style scoped>\n",
       "    .dataframe tbody tr th:only-of-type {\n",
       "        vertical-align: middle;\n",
       "    }\n",
       "\n",
       "    .dataframe tbody tr th {\n",
       "        vertical-align: top;\n",
       "    }\n",
       "\n",
       "    .dataframe thead th {\n",
       "        text-align: right;\n",
       "    }\n",
       "</style>\n",
       "<table border=\"1\" class=\"dataframe\">\n",
       "  <thead>\n",
       "    <tr style=\"text-align: right;\">\n",
       "      <th></th>\n",
       "      <th>Unnamed: 0</th>\n",
       "      <th>Date</th>\n",
       "      <th>Product</th>\n",
       "      <th>Revenue</th>\n",
       "      <th>Quantity</th>\n",
       "    </tr>\n",
       "  </thead>\n",
       "  <tbody>\n",
       "    <tr>\n",
       "      <th>0</th>\n",
       "      <td>0</td>\n",
       "      <td>2023-01-01</td>\n",
       "      <td>A</td>\n",
       "      <td>221</td>\n",
       "      <td>3</td>\n",
       "    </tr>\n",
       "    <tr>\n",
       "      <th>1</th>\n",
       "      <td>1</td>\n",
       "      <td>2023-01-01</td>\n",
       "      <td>B</td>\n",
       "      <td>111</td>\n",
       "      <td>8</td>\n",
       "    </tr>\n",
       "    <tr>\n",
       "      <th>2</th>\n",
       "      <td>2</td>\n",
       "      <td>2023-01-02</td>\n",
       "      <td>B</td>\n",
       "      <td>171</td>\n",
       "      <td>11</td>\n",
       "    </tr>\n",
       "    <tr>\n",
       "      <th>3</th>\n",
       "      <td>3</td>\n",
       "      <td>2023-01-02</td>\n",
       "      <td>A</td>\n",
       "      <td>141</td>\n",
       "      <td>15</td>\n",
       "    </tr>\n",
       "    <tr>\n",
       "      <th>4</th>\n",
       "      <td>4</td>\n",
       "      <td>2023-02-01</td>\n",
       "      <td>A</td>\n",
       "      <td>75</td>\n",
       "      <td>4</td>\n",
       "    </tr>\n",
       "    <tr>\n",
       "      <th>5</th>\n",
       "      <td>5</td>\n",
       "      <td>2023-02-01</td>\n",
       "      <td>B</td>\n",
       "      <td>90</td>\n",
       "      <td>12</td>\n",
       "    </tr>\n",
       "    <tr>\n",
       "      <th>6</th>\n",
       "      <td>6</td>\n",
       "      <td>2023-02-02</td>\n",
       "      <td>A</td>\n",
       "      <td>96</td>\n",
       "      <td>17</td>\n",
       "    </tr>\n",
       "    <tr>\n",
       "      <th>7</th>\n",
       "      <td>7</td>\n",
       "      <td>2023-02-02</td>\n",
       "      <td>B</td>\n",
       "      <td>170</td>\n",
       "      <td>10</td>\n",
       "    </tr>\n",
       "    <tr>\n",
       "      <th>8</th>\n",
       "      <td>8</td>\n",
       "      <td>2023-03-01</td>\n",
       "      <td>B</td>\n",
       "      <td>200</td>\n",
       "      <td>19</td>\n",
       "    </tr>\n",
       "    <tr>\n",
       "      <th>9</th>\n",
       "      <td>9</td>\n",
       "      <td>2023-03-01</td>\n",
       "      <td>A</td>\n",
       "      <td>120</td>\n",
       "      <td>10</td>\n",
       "    </tr>\n",
       "    <tr>\n",
       "      <th>10</th>\n",
       "      <td>10</td>\n",
       "      <td>2023-03-02</td>\n",
       "      <td>A</td>\n",
       "      <td>121</td>\n",
       "      <td>12</td>\n",
       "    </tr>\n",
       "    <tr>\n",
       "      <th>11</th>\n",
       "      <td>11</td>\n",
       "      <td>2023-03-02</td>\n",
       "      <td>B</td>\n",
       "      <td>150</td>\n",
       "      <td>5</td>\n",
       "    </tr>\n",
       "  </tbody>\n",
       "</table>\n",
       "</div>"
      ],
      "text/plain": [
       "    Unnamed: 0        Date Product  Revenue  Quantity\n",
       "0            0  2023-01-01       A      221         3\n",
       "1            1  2023-01-01       B      111         8\n",
       "2            2  2023-01-02       B      171        11\n",
       "3            3  2023-01-02       A      141        15\n",
       "4            4  2023-02-01       A       75         4\n",
       "5            5  2023-02-01       B       90        12\n",
       "6            6  2023-02-02       A       96        17\n",
       "7            7  2023-02-02       B      170        10\n",
       "8            8  2023-03-01       B      200        19\n",
       "9            9  2023-03-01       A      120        10\n",
       "10          10  2023-03-02       A      121        12\n",
       "11          11  2023-03-02       B      150         5"
      ]
     },
     "execution_count": 213,
     "metadata": {},
     "output_type": "execute_result"
    }
   ],
   "source": [
    "df=pd.read_csv(r\"C:\\Users\\mdimr\\Downloads\\groupbyExcercise - groupbyExcercise.csv\")\n",
    "df"
   ]
  },
  {
   "cell_type": "code",
   "execution_count": 214,
   "id": "4ede84b9",
   "metadata": {},
   "outputs": [
    {
     "name": "stdout",
     "output_type": "stream",
     "text": [
      "<class 'pandas.core.frame.DataFrame'>\n",
      "RangeIndex: 12 entries, 0 to 11\n",
      "Data columns (total 5 columns):\n",
      " #   Column      Non-Null Count  Dtype \n",
      "---  ------      --------------  ----- \n",
      " 0   Unnamed: 0  12 non-null     int64 \n",
      " 1   Date        12 non-null     object\n",
      " 2   Product     12 non-null     object\n",
      " 3   Revenue     12 non-null     int64 \n",
      " 4   Quantity    12 non-null     int64 \n",
      "dtypes: int64(3), object(2)\n",
      "memory usage: 612.0+ bytes\n"
     ]
    }
   ],
   "source": [
    "df.info()"
   ]
  },
  {
   "cell_type": "code",
   "execution_count": 215,
   "id": "3dbd9b4b",
   "metadata": {},
   "outputs": [],
   "source": [
    "df.drop(columns=['Unnamed: 0'],inplace=True)"
   ]
  },
  {
   "cell_type": "code",
   "execution_count": 216,
   "id": "39138dbd",
   "metadata": {},
   "outputs": [
    {
     "name": "stdout",
     "output_type": "stream",
     "text": [
      "<class 'pandas.core.frame.DataFrame'>\n",
      "RangeIndex: 12 entries, 0 to 11\n",
      "Data columns (total 4 columns):\n",
      " #   Column    Non-Null Count  Dtype \n",
      "---  ------    --------------  ----- \n",
      " 0   Date      12 non-null     object\n",
      " 1   Product   12 non-null     object\n",
      " 2   Revenue   12 non-null     int64 \n",
      " 3   Quantity  12 non-null     int64 \n",
      "dtypes: int64(2), object(2)\n",
      "memory usage: 516.0+ bytes\n"
     ]
    }
   ],
   "source": [
    "df.info()"
   ]
  },
  {
   "cell_type": "code",
   "execution_count": 217,
   "id": "d083202f",
   "metadata": {},
   "outputs": [
    {
     "data": {
      "text/html": [
       "<div>\n",
       "<style scoped>\n",
       "    .dataframe tbody tr th:only-of-type {\n",
       "        vertical-align: middle;\n",
       "    }\n",
       "\n",
       "    .dataframe tbody tr th {\n",
       "        vertical-align: top;\n",
       "    }\n",
       "\n",
       "    .dataframe thead th {\n",
       "        text-align: right;\n",
       "    }\n",
       "</style>\n",
       "<table border=\"1\" class=\"dataframe\">\n",
       "  <thead>\n",
       "    <tr style=\"text-align: right;\">\n",
       "      <th></th>\n",
       "      <th>Revenue</th>\n",
       "      <th>Quantity</th>\n",
       "    </tr>\n",
       "  </thead>\n",
       "  <tbody>\n",
       "    <tr>\n",
       "      <th>count</th>\n",
       "      <td>12.000000</td>\n",
       "      <td>12.00</td>\n",
       "    </tr>\n",
       "    <tr>\n",
       "      <th>mean</th>\n",
       "      <td>138.833333</td>\n",
       "      <td>10.50</td>\n",
       "    </tr>\n",
       "    <tr>\n",
       "      <th>std</th>\n",
       "      <td>45.095522</td>\n",
       "      <td>5.00</td>\n",
       "    </tr>\n",
       "    <tr>\n",
       "      <th>min</th>\n",
       "      <td>75.000000</td>\n",
       "      <td>3.00</td>\n",
       "    </tr>\n",
       "    <tr>\n",
       "      <th>25%</th>\n",
       "      <td>107.250000</td>\n",
       "      <td>7.25</td>\n",
       "    </tr>\n",
       "    <tr>\n",
       "      <th>50%</th>\n",
       "      <td>131.000000</td>\n",
       "      <td>10.50</td>\n",
       "    </tr>\n",
       "    <tr>\n",
       "      <th>75%</th>\n",
       "      <td>170.250000</td>\n",
       "      <td>12.75</td>\n",
       "    </tr>\n",
       "    <tr>\n",
       "      <th>max</th>\n",
       "      <td>221.000000</td>\n",
       "      <td>19.00</td>\n",
       "    </tr>\n",
       "  </tbody>\n",
       "</table>\n",
       "</div>"
      ],
      "text/plain": [
       "          Revenue  Quantity\n",
       "count   12.000000     12.00\n",
       "mean   138.833333     10.50\n",
       "std     45.095522      5.00\n",
       "min     75.000000      3.00\n",
       "25%    107.250000      7.25\n",
       "50%    131.000000     10.50\n",
       "75%    170.250000     12.75\n",
       "max    221.000000     19.00"
      ]
     },
     "execution_count": 217,
     "metadata": {},
     "output_type": "execute_result"
    }
   ],
   "source": [
    "df.describe()"
   ]
  },
  {
   "cell_type": "code",
   "execution_count": 218,
   "id": "107201e5",
   "metadata": {},
   "outputs": [
    {
     "data": {
      "text/html": [
       "<div>\n",
       "<style scoped>\n",
       "    .dataframe tbody tr th:only-of-type {\n",
       "        vertical-align: middle;\n",
       "    }\n",
       "\n",
       "    .dataframe tbody tr th {\n",
       "        vertical-align: top;\n",
       "    }\n",
       "\n",
       "    .dataframe thead th {\n",
       "        text-align: right;\n",
       "    }\n",
       "</style>\n",
       "<table border=\"1\" class=\"dataframe\">\n",
       "  <thead>\n",
       "    <tr style=\"text-align: right;\">\n",
       "      <th></th>\n",
       "      <th>count</th>\n",
       "      <th>mean</th>\n",
       "      <th>std</th>\n",
       "      <th>min</th>\n",
       "      <th>25%</th>\n",
       "      <th>50%</th>\n",
       "      <th>75%</th>\n",
       "      <th>max</th>\n",
       "    </tr>\n",
       "  </thead>\n",
       "  <tbody>\n",
       "    <tr>\n",
       "      <th>Revenue</th>\n",
       "      <td>12.0</td>\n",
       "      <td>138.833333</td>\n",
       "      <td>45.095522</td>\n",
       "      <td>75.0</td>\n",
       "      <td>107.25</td>\n",
       "      <td>131.0</td>\n",
       "      <td>170.25</td>\n",
       "      <td>221.0</td>\n",
       "    </tr>\n",
       "    <tr>\n",
       "      <th>Quantity</th>\n",
       "      <td>12.0</td>\n",
       "      <td>10.500000</td>\n",
       "      <td>5.000000</td>\n",
       "      <td>3.0</td>\n",
       "      <td>7.25</td>\n",
       "      <td>10.5</td>\n",
       "      <td>12.75</td>\n",
       "      <td>19.0</td>\n",
       "    </tr>\n",
       "  </tbody>\n",
       "</table>\n",
       "</div>"
      ],
      "text/plain": [
       "          count        mean        std   min     25%    50%     75%    max\n",
       "Revenue    12.0  138.833333  45.095522  75.0  107.25  131.0  170.25  221.0\n",
       "Quantity   12.0   10.500000   5.000000   3.0    7.25   10.5   12.75   19.0"
      ]
     },
     "execution_count": 218,
     "metadata": {},
     "output_type": "execute_result"
    }
   ],
   "source": [
    "df.describe().T"
   ]
  },
  {
   "cell_type": "markdown",
   "id": "2aa24b8d",
   "metadata": {},
   "source": [
    "## 1. Arrange DataFrame df, focusing on distinct product categories. Explore the data           to reveal:\n",
    "   * Overall revenue insights\n",
    "   * Average revenue patterns\n",
    "   * Peak quantity sold observations\n",
    "   * Minimum quantity sold occurrences"
   ]
  },
  {
   "cell_type": "markdown",
   "id": "63946d8a",
   "metadata": {},
   "source": [
    "### (i)  Overall revenue insights"
   ]
  },
  {
   "cell_type": "code",
   "execution_count": 219,
   "id": "6172497d",
   "metadata": {},
   "outputs": [
    {
     "data": {
      "text/plain": [
       "Product\n",
       "A    774\n",
       "B    892\n",
       "Name: Revenue, dtype: int64"
      ]
     },
     "execution_count": 219,
     "metadata": {},
     "output_type": "execute_result"
    }
   ],
   "source": [
    "df.groupby(['Product'])['Revenue'].sum()"
   ]
  },
  {
   "cell_type": "markdown",
   "id": "b9fc8f37",
   "metadata": {},
   "source": [
    "### (ii) Average revenue patterns"
   ]
  },
  {
   "cell_type": "code",
   "execution_count": 220,
   "id": "1d6431ab",
   "metadata": {},
   "outputs": [
    {
     "data": {
      "text/plain": [
       "Product\n",
       "A    129.000000\n",
       "B    148.666667\n",
       "Name: Revenue, dtype: float64"
      ]
     },
     "execution_count": 220,
     "metadata": {},
     "output_type": "execute_result"
    }
   ],
   "source": [
    "df.groupby(['Product'])['Revenue'].mean()"
   ]
  },
  {
   "cell_type": "markdown",
   "id": "66fba0f3",
   "metadata": {},
   "source": [
    "### (iii) Peak quantity sold observations"
   ]
  },
  {
   "cell_type": "code",
   "execution_count": 98,
   "id": "fc349bf4",
   "metadata": {},
   "outputs": [
    {
     "data": {
      "text/plain": [
       "Product\n",
       "A    17\n",
       "B    19\n",
       "Name: Quantity, dtype: int64"
      ]
     },
     "execution_count": 98,
     "metadata": {},
     "output_type": "execute_result"
    }
   ],
   "source": [
    "df.groupby(['Product'])['Quantity'].max()"
   ]
  },
  {
   "cell_type": "markdown",
   "id": "06b38ea7",
   "metadata": {},
   "source": [
    "### (iv) Minimum quantity sold occurrences"
   ]
  },
  {
   "cell_type": "code",
   "execution_count": 99,
   "id": "0f36e43a",
   "metadata": {},
   "outputs": [
    {
     "data": {
      "text/plain": [
       "Product\n",
       "A    3\n",
       "B    5\n",
       "Name: Quantity, dtype: int64"
      ]
     },
     "execution_count": 99,
     "metadata": {},
     "output_type": "execute_result"
    }
   ],
   "source": [
    "df.groupby(['Product'])['Quantity'].min()"
   ]
  },
  {
   "cell_type": "markdown",
   "id": "03fd6a7c",
   "metadata": {},
   "source": [
    "## 2.  Aggregate DataFrame df by extracting the month and year from the 'Date' column. Calculate the collective revenue for each unique combination of month and year."
   ]
  },
  {
   "cell_type": "code",
   "execution_count": 254,
   "id": "3eb32d5f",
   "metadata": {},
   "outputs": [
    {
     "data": {
      "text/html": [
       "<div>\n",
       "<style scoped>\n",
       "    .dataframe tbody tr th:only-of-type {\n",
       "        vertical-align: middle;\n",
       "    }\n",
       "\n",
       "    .dataframe tbody tr th {\n",
       "        vertical-align: top;\n",
       "    }\n",
       "\n",
       "    .dataframe thead th {\n",
       "        text-align: right;\n",
       "    }\n",
       "</style>\n",
       "<table border=\"1\" class=\"dataframe\">\n",
       "  <thead>\n",
       "    <tr style=\"text-align: right;\">\n",
       "      <th></th>\n",
       "      <th>Date</th>\n",
       "      <th>Month</th>\n",
       "      <th>Year</th>\n",
       "    </tr>\n",
       "  </thead>\n",
       "  <tbody>\n",
       "    <tr>\n",
       "      <th>0</th>\n",
       "      <td>2023-01-01</td>\n",
       "      <td>1</td>\n",
       "      <td>2023</td>\n",
       "    </tr>\n",
       "    <tr>\n",
       "      <th>1</th>\n",
       "      <td>2023-01-01</td>\n",
       "      <td>1</td>\n",
       "      <td>2023</td>\n",
       "    </tr>\n",
       "    <tr>\n",
       "      <th>2</th>\n",
       "      <td>2023-01-02</td>\n",
       "      <td>1</td>\n",
       "      <td>2023</td>\n",
       "    </tr>\n",
       "    <tr>\n",
       "      <th>3</th>\n",
       "      <td>2023-01-02</td>\n",
       "      <td>1</td>\n",
       "      <td>2023</td>\n",
       "    </tr>\n",
       "    <tr>\n",
       "      <th>4</th>\n",
       "      <td>2023-02-01</td>\n",
       "      <td>2</td>\n",
       "      <td>2023</td>\n",
       "    </tr>\n",
       "    <tr>\n",
       "      <th>5</th>\n",
       "      <td>2023-02-01</td>\n",
       "      <td>2</td>\n",
       "      <td>2023</td>\n",
       "    </tr>\n",
       "    <tr>\n",
       "      <th>6</th>\n",
       "      <td>2023-02-02</td>\n",
       "      <td>2</td>\n",
       "      <td>2023</td>\n",
       "    </tr>\n",
       "    <tr>\n",
       "      <th>7</th>\n",
       "      <td>2023-02-02</td>\n",
       "      <td>2</td>\n",
       "      <td>2023</td>\n",
       "    </tr>\n",
       "    <tr>\n",
       "      <th>8</th>\n",
       "      <td>2023-03-01</td>\n",
       "      <td>3</td>\n",
       "      <td>2023</td>\n",
       "    </tr>\n",
       "    <tr>\n",
       "      <th>9</th>\n",
       "      <td>2023-03-01</td>\n",
       "      <td>3</td>\n",
       "      <td>2023</td>\n",
       "    </tr>\n",
       "    <tr>\n",
       "      <th>10</th>\n",
       "      <td>2023-03-02</td>\n",
       "      <td>3</td>\n",
       "      <td>2023</td>\n",
       "    </tr>\n",
       "    <tr>\n",
       "      <th>11</th>\n",
       "      <td>2023-03-02</td>\n",
       "      <td>3</td>\n",
       "      <td>2023</td>\n",
       "    </tr>\n",
       "  </tbody>\n",
       "</table>\n",
       "</div>"
      ],
      "text/plain": [
       "         Date  Month  Year\n",
       "0  2023-01-01      1  2023\n",
       "1  2023-01-01      1  2023\n",
       "2  2023-01-02      1  2023\n",
       "3  2023-01-02      1  2023\n",
       "4  2023-02-01      2  2023\n",
       "5  2023-02-01      2  2023\n",
       "6  2023-02-02      2  2023\n",
       "7  2023-02-02      2  2023\n",
       "8  2023-03-01      3  2023\n",
       "9  2023-03-01      3  2023\n",
       "10 2023-03-02      3  2023\n",
       "11 2023-03-02      3  2023"
      ]
     },
     "execution_count": 254,
     "metadata": {},
     "output_type": "execute_result"
    }
   ],
   "source": [
    "df['Date'] = pd.to_datetime(df['Date'])\n",
    "df['Month'] = df['Date'].dt.month\n",
    "df['Year'] = df['Date'].dt.year\n",
    "df[['Date','Month','Year']]"
   ]
  },
  {
   "cell_type": "code",
   "execution_count": 255,
   "id": "7c6d4f21",
   "metadata": {},
   "outputs": [
    {
     "name": "stdout",
     "output_type": "stream",
     "text": [
      "Month  Year\n",
      "1      2023    644\n",
      "2      2023    431\n",
      "3      2023    591\n",
      "Name: Revenue, dtype: int64\n"
     ]
    }
   ],
   "source": [
    "x = df.groupby(['Month', 'Year'])['Revenue'].sum()\n",
    "print(x)"
   ]
  },
  {
   "cell_type": "markdown",
   "id": "611d6d55",
   "metadata": {},
   "source": [
    "## 3. Group the DataFrame df by the 'Date' column and find the date with the highest total revenue and the date with the highest total quantity sold."
   ]
  },
  {
   "cell_type": "code",
   "execution_count": 256,
   "id": "327cdffa",
   "metadata": {},
   "outputs": [
    {
     "data": {
      "text/html": [
       "<div>\n",
       "<style scoped>\n",
       "    .dataframe tbody tr th:only-of-type {\n",
       "        vertical-align: middle;\n",
       "    }\n",
       "\n",
       "    .dataframe tbody tr th {\n",
       "        vertical-align: top;\n",
       "    }\n",
       "\n",
       "    .dataframe thead th {\n",
       "        text-align: right;\n",
       "    }\n",
       "</style>\n",
       "<table border=\"1\" class=\"dataframe\">\n",
       "  <thead>\n",
       "    <tr style=\"text-align: right;\">\n",
       "      <th></th>\n",
       "      <th>Revenue</th>\n",
       "      <th>Quantity</th>\n",
       "    </tr>\n",
       "    <tr>\n",
       "      <th>Date</th>\n",
       "      <th></th>\n",
       "      <th></th>\n",
       "    </tr>\n",
       "  </thead>\n",
       "  <tbody>\n",
       "    <tr>\n",
       "      <th>2023-01-01</th>\n",
       "      <td>332</td>\n",
       "      <td>11</td>\n",
       "    </tr>\n",
       "    <tr>\n",
       "      <th>2023-01-02</th>\n",
       "      <td>312</td>\n",
       "      <td>26</td>\n",
       "    </tr>\n",
       "    <tr>\n",
       "      <th>2023-02-01</th>\n",
       "      <td>165</td>\n",
       "      <td>16</td>\n",
       "    </tr>\n",
       "    <tr>\n",
       "      <th>2023-02-02</th>\n",
       "      <td>266</td>\n",
       "      <td>27</td>\n",
       "    </tr>\n",
       "    <tr>\n",
       "      <th>2023-03-01</th>\n",
       "      <td>320</td>\n",
       "      <td>29</td>\n",
       "    </tr>\n",
       "    <tr>\n",
       "      <th>2023-03-02</th>\n",
       "      <td>271</td>\n",
       "      <td>17</td>\n",
       "    </tr>\n",
       "  </tbody>\n",
       "</table>\n",
       "</div>"
      ],
      "text/plain": [
       "            Revenue  Quantity\n",
       "Date                         \n",
       "2023-01-01      332        11\n",
       "2023-01-02      312        26\n",
       "2023-02-01      165        16\n",
       "2023-02-02      266        27\n",
       "2023-03-01      320        29\n",
       "2023-03-02      271        17"
      ]
     },
     "execution_count": 256,
     "metadata": {},
     "output_type": "execute_result"
    }
   ],
   "source": [
    "x = df.groupby(['Date'])[['Revenue','Quantity']].sum()\n",
    "x"
   ]
  },
  {
   "cell_type": "code",
   "execution_count": 257,
   "id": "51fc5371",
   "metadata": {},
   "outputs": [
    {
     "name": "stdout",
     "output_type": "stream",
     "text": [
      "Date with Highest revenue  is :  2023-01-01 00:00:00\n"
     ]
    }
   ],
   "source": [
    "max_revenue_date =x['Revenue'].idxmax()\n",
    "max_revenue_date\n",
    "print('Date with Highest revenue  is : ', max_revenue_date)"
   ]
  },
  {
   "cell_type": "code",
   "execution_count": 239,
   "id": "dee3501f",
   "metadata": {},
   "outputs": [
    {
     "name": "stdout",
     "output_type": "stream",
     "text": [
      "Date with Highest quantity sold is :  2023-03-01\n"
     ]
    }
   ],
   "source": [
    "max_quantity_date = x['Quantity'].idxmax()\n",
    "print('Date with Highest quantity sold is : ', max_quantity_date)"
   ]
  },
  {
   "cell_type": "markdown",
   "id": "65caeb8c",
   "metadata": {},
   "source": [
    "## 4. Group the DataFrame df by the Date and find products that have a total quantity sold greater than 10 and less than 15 ."
   ]
  },
  {
   "cell_type": "code",
   "execution_count": 259,
   "id": "7e5c14b1",
   "metadata": {},
   "outputs": [],
   "source": [
    "x = df.groupby(['Date', 'Product'])['Quantity'].sum()"
   ]
  },
  {
   "cell_type": "code",
   "execution_count": 260,
   "id": "896478b9",
   "metadata": {},
   "outputs": [],
   "source": [
    "y = x[(x > 10) & (x < 15)]"
   ]
  },
  {
   "cell_type": "code",
   "execution_count": 261,
   "id": "0e0cfd95",
   "metadata": {},
   "outputs": [
    {
     "data": {
      "text/plain": [
       "Date        Product\n",
       "2023-01-02  B          11\n",
       "2023-02-01  B          12\n",
       "2023-03-02  A          12\n",
       "Name: Quantity, dtype: int64"
      ]
     },
     "execution_count": 261,
     "metadata": {},
     "output_type": "execute_result"
    }
   ],
   "source": [
    "y"
   ]
  },
  {
   "cell_type": "markdown",
   "id": "92d2f8ff",
   "metadata": {},
   "source": [
    "## 5. Group the DataFrame df by the 'Product' column andadd a new column 'Revenue Percentage' that shows the percentage of each product's revenue relative to the total revenue for that product.\n"
   ]
  },
  {
   "cell_type": "code",
   "execution_count": 161,
   "id": "2bfb3d0f",
   "metadata": {},
   "outputs": [],
   "source": [
    "x = df.groupby('Product')['Revenue'].sum()"
   ]
  },
  {
   "cell_type": "code",
   "execution_count": 162,
   "id": "0447e4eb",
   "metadata": {},
   "outputs": [],
   "source": [
    "percentage = x / x.sum() * 100"
   ]
  },
  {
   "cell_type": "code",
   "execution_count": 163,
   "id": "9fe0db78",
   "metadata": {},
   "outputs": [
    {
     "name": "stdout",
     "output_type": "stream",
     "text": [
      "          Date Product  Revenue  Quantity  Revenue Percentage\n",
      "0   2023-01-01       A      221         3           46.458583\n",
      "1   2023-01-01       B      111         8           53.541417\n",
      "2   2023-01-02       B      171        11           53.541417\n",
      "3   2023-01-02       A      141        15           46.458583\n",
      "4   2023-02-01       A       75         4           46.458583\n",
      "5   2023-02-01       B       90        12           53.541417\n",
      "6   2023-02-02       A       96        17           46.458583\n",
      "7   2023-02-02       B      170        10           53.541417\n",
      "8   2023-03-01       B      200        19           53.541417\n",
      "9   2023-03-01       A      120        10           46.458583\n",
      "10  2023-03-02       A      121        12           46.458583\n",
      "11  2023-03-02       B      150         5           53.541417\n"
     ]
    }
   ],
   "source": [
    "df['Revenue Percentage'] = df['Product'].map(percentage)\n",
    "print(df)"
   ]
  }
 ],
 "metadata": {
  "kernelspec": {
   "display_name": "Python 3 (ipykernel)",
   "language": "python",
   "name": "python3"
  },
  "language_info": {
   "codemirror_mode": {
    "name": "ipython",
    "version": 3
   },
   "file_extension": ".py",
   "mimetype": "text/x-python",
   "name": "python",
   "nbconvert_exporter": "python",
   "pygments_lexer": "ipython3",
   "version": "3.11.5"
  }
 },
 "nbformat": 4,
 "nbformat_minor": 5
}
